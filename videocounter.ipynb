{
 "cells": [
  {
   "cell_type": "markdown",
   "metadata": {},
   "source": [
    "# `Automatisierte` SCHÄTZUNG TEILNEHMERZAHL PEGIDA 11.05.2015\n",
    "\n",
    "Inspiriert durch https://durchgezaehlt.wordpress.com/2015/05/12/schatzung-teilnehmerzahl-pegida-11-05-2015/\n",
    "\n",
    "Hier die automatische Variante. :)"
   ]
  },
  {
   "cell_type": "markdown",
   "metadata": {},
   "source": [
    "### 1. Download Video from YouTube"
   ]
  },
  {
   "cell_type": "code",
   "execution_count": 40,
   "metadata": {
    "collapsed": false
   },
   "outputs": [],
   "source": [
    "#!youtube-dl http://youtu.be/5K8bZHfjWcg"
   ]
  },
  {
   "cell_type": "markdown",
   "metadata": {},
   "source": [
    "### 2. Extract 1 image every 10 seconds\n",
    "\n",
    "this depends, for sure, on the original fps of the video and the walking speed of the people\n",
    "\n",
    "see http://www.linuxers.org/tutorial/how-extract-images-video-using-ffmpeg"
   ]
  },
  {
   "cell_type": "code",
   "execution_count": 41,
   "metadata": {
    "collapsed": false
   },
   "outputs": [],
   "source": [
    "#!ffmpeg -i Pegida\\ am\\ 11.05.2015\\ in\\ Dresden-5K8bZHfjWcg.mp4 -qscale:v 2 -r 1/10 -s hd720 screenshots/pegida_demo_11052015_%3d.jpg"
   ]
  },
  {
   "cell_type": "markdown",
   "metadata": {},
   "source": [
    "### 3. Code some Stuff"
   ]
  },
  {
   "cell_type": "code",
   "execution_count": 42,
   "metadata": {
    "collapsed": false
   },
   "outputs": [
    {
     "name": "stdout",
     "output_type": "stream",
     "text": [
      "2.4.11\n"
     ]
    }
   ],
   "source": [
    "import cv2\n",
    "print cv2.__version__\n",
    "\n",
    "%matplotlib inline\n",
    "import numpy as np\n",
    "import matplotlib.pyplot as plt\n",
    "import Image\n",
    "\n",
    "import os"
   ]
  },
  {
   "cell_type": "markdown",
   "metadata": {},
   "source": [
    "this little helper code is from here, in case you want to mark people in images: http://stackoverflow.com/questions/28476343/how-to-correctly-use-peopledetect-py-in-opencv"
   ]
  },
  {
   "cell_type": "code",
   "execution_count": 43,
   "metadata": {
    "collapsed": true
   },
   "outputs": [],
   "source": [
    "def inside(r, q):\n",
    "    rx, ry, rw, rh = r\n",
    "    qx, qy, qw, qh = q\n",
    "    return rx > qx and ry > qy and rx + rw < qx + qw and ry + rh < qy + qh"
   ]
  },
  {
   "cell_type": "code",
   "execution_count": 44,
   "metadata": {
    "collapsed": true
   },
   "outputs": [],
   "source": [
    "def draw_detections(img, rects, thickness = 1):\n",
    "    for x, y, w, h in rects:\n",
    "        # the HOG detector returns slightly larger rectangles than the real objects.\n",
    "        # so we slightly shrink the rectangles to get a nicer output.\n",
    "        pad_w, pad_h = int(0.15*w), int(0.05*h)\n",
    "        cv2.rectangle(img, (x+pad_w, y+pad_h), (x+w-pad_w, y+h-pad_h), (0, 255, 0), thickness)"
   ]
  },
  {
   "cell_type": "markdown",
   "metadata": {},
   "source": [
    "### Histogram of oriented gradients (HOG) Descriptor for People Detection\n",
    "\n",
    "see undocumented OpenCV: https://github.com/Itseez/opencv/blob/master/samples/python2/peopledetect.py"
   ]
  },
  {
   "cell_type": "code",
   "execution_count": 45,
   "metadata": {
    "collapsed": false
   },
   "outputs": [],
   "source": [
    "def detectpeople(img, hitThreshold=-0.3, winStride=(6,6), padding=(32,32), scale=1.05, crowd_factor=2.08):\n",
    "    hog = cv2.HOGDescriptor()\n",
    "    hog.setSVMDetector( cv2.HOGDescriptor_getDefaultPeopleDetector() )\n",
    "\n",
    "    found, w = hog.detectMultiScale(img, hitThreshold=hitThreshold, winStride=winStride, padding=padding, scale=scale)\n",
    "    \n",
    "    found_filtered = []\n",
    "    for ri, r in enumerate(found):\n",
    "        for qi, q in enumerate(found):\n",
    "            if ri != qi and inside(r, q):\n",
    "                break\n",
    "        else:\n",
    "            found_filtered.append(r)\n",
    "    '''\n",
    "    draw_detections(img, found)\n",
    "    draw_detections(img, found_filtered, 3)\n",
    "    print '%d (%d) found' % (len(found_filtered), len(found))\n",
    "    \n",
    "    plt.title(\"marked image\")\n",
    "    plt.imshow(img)\n",
    "    plt.axis('off')\n",
    "    '''\n",
    "    # because of hidden people behind others,\n",
    "    # we multiply with empirically choosen crowd factor \n",
    "    people = int(len(found_filtered)*crowd_factor)\n",
    "    \n",
    "    return people"
   ]
  },
  {
   "cell_type": "markdown",
   "metadata": {},
   "source": [
    "# Look at all the Pegidas!\n",
    "\n",
    "![](http://i.imgur.com/aW8KocQ.jpg)"
   ]
  },
  {
   "cell_type": "code",
   "execution_count": 46,
   "metadata": {
    "collapsed": false
   },
   "outputs": [],
   "source": [
    "screenshots = [f for f in os.listdir('./screenshots') if f.endswith('.jpg')]"
   ]
  },
  {
   "cell_type": "code",
   "execution_count": 47,
   "metadata": {
    "collapsed": true
   },
   "outputs": [],
   "source": [
    "#screenshots = ['pegida_demo_11052015_022.jpg']"
   ]
  },
  {
   "cell_type": "code",
   "execution_count": 48,
   "metadata": {
    "collapsed": false
   },
   "outputs": [
    {
     "name": "stdout",
     "output_type": "stream",
     "text": [
      "37 Teilnehmer auf 'pegida_demo_11052015_005.jpg' gefunden.\n",
      "87 Teilnehmer auf 'pegida_demo_11052015_006.jpg' gefunden.\n",
      "72 Teilnehmer auf 'pegida_demo_11052015_007.jpg' gefunden.\n",
      "83 Teilnehmer auf 'pegida_demo_11052015_008.jpg' gefunden.\n",
      "58 Teilnehmer auf 'pegida_demo_11052015_009.jpg' gefunden.\n",
      "49 Teilnehmer auf 'pegida_demo_11052015_010.jpg' gefunden.\n",
      "41 Teilnehmer auf 'pegida_demo_11052015_011.jpg' gefunden.\n",
      "39 Teilnehmer auf 'pegida_demo_11052015_012.jpg' gefunden.\n",
      "39 Teilnehmer auf 'pegida_demo_11052015_013.jpg' gefunden.\n",
      "31 Teilnehmer auf 'pegida_demo_11052015_014.jpg' gefunden.\n",
      "39 Teilnehmer auf 'pegida_demo_11052015_015.jpg' gefunden.\n",
      "37 Teilnehmer auf 'pegida_demo_11052015_016.jpg' gefunden.\n",
      "54 Teilnehmer auf 'pegida_demo_11052015_017.jpg' gefunden.\n",
      "16 Teilnehmer auf 'pegida_demo_11052015_018.jpg' gefunden.\n",
      "12 Teilnehmer auf 'pegida_demo_11052015_019.jpg' gefunden.\n",
      "33 Teilnehmer auf 'pegida_demo_11052015_020.jpg' gefunden.\n",
      "56 Teilnehmer auf 'pegida_demo_11052015_021.jpg' gefunden.\n",
      "56 Teilnehmer auf 'pegida_demo_11052015_022.jpg' gefunden.\n",
      "64 Teilnehmer auf 'pegida_demo_11052015_023.jpg' gefunden.\n",
      "60 Teilnehmer auf 'pegida_demo_11052015_024.jpg' gefunden.\n",
      "31 Teilnehmer auf 'pegida_demo_11052015_025.jpg' gefunden.\n",
      "24 Teilnehmer auf 'pegida_demo_11052015_026.jpg' gefunden.\n",
      "35 Teilnehmer auf 'pegida_demo_11052015_027.jpg' gefunden.\n",
      "49 Teilnehmer auf 'pegida_demo_11052015_028.jpg' gefunden.\n",
      "45 Teilnehmer auf 'pegida_demo_11052015_029.jpg' gefunden.\n",
      "35 Teilnehmer auf 'pegida_demo_11052015_030.jpg' gefunden.\n",
      "20 Teilnehmer auf 'pegida_demo_11052015_031.jpg' gefunden.\n",
      "27 Teilnehmer auf 'pegida_demo_11052015_032.jpg' gefunden.\n",
      "35 Teilnehmer auf 'pegida_demo_11052015_033.jpg' gefunden.\n",
      "49 Teilnehmer auf 'pegida_demo_11052015_034.jpg' gefunden.\n",
      "43 Teilnehmer auf 'pegida_demo_11052015_035.jpg' gefunden.\n",
      "49 Teilnehmer auf 'pegida_demo_11052015_036.jpg' gefunden.\n",
      "41 Teilnehmer auf 'pegida_demo_11052015_037.jpg' gefunden.\n",
      "49 Teilnehmer auf 'pegida_demo_11052015_038.jpg' gefunden.\n",
      "37 Teilnehmer auf 'pegida_demo_11052015_039.jpg' gefunden.\n",
      "31 Teilnehmer auf 'pegida_demo_11052015_040.jpg' gefunden.\n",
      "27 Teilnehmer auf 'pegida_demo_11052015_041.jpg' gefunden.\n",
      "22 Teilnehmer auf 'pegida_demo_11052015_042.jpg' gefunden.\n",
      "47 Teilnehmer auf 'pegida_demo_11052015_043.jpg' gefunden.\n",
      "31 Teilnehmer auf 'pegida_demo_11052015_044.jpg' gefunden.\n",
      "33 Teilnehmer auf 'pegida_demo_11052015_045.jpg' gefunden.\n",
      "18 Teilnehmer auf 'pegida_demo_11052015_046.jpg' gefunden.\n",
      "18 Teilnehmer auf 'pegida_demo_11052015_047.jpg' gefunden.\n",
      "18 Teilnehmer auf 'pegida_demo_11052015_048.jpg' gefunden.\n",
      "27 Teilnehmer auf 'pegida_demo_11052015_049.jpg' gefunden.\n",
      "33 Teilnehmer auf 'pegida_demo_11052015_050.jpg' gefunden.\n",
      "31 Teilnehmer auf 'pegida_demo_11052015_051.jpg' gefunden.\n",
      "24 Teilnehmer auf 'pegida_demo_11052015_052.jpg' gefunden.\n",
      "27 Teilnehmer auf 'pegida_demo_11052015_053.jpg' gefunden.\n",
      "24 Teilnehmer auf 'pegida_demo_11052015_054.jpg' gefunden.\n",
      "41 Teilnehmer auf 'pegida_demo_11052015_055.jpg' gefunden.\n",
      "39 Teilnehmer auf 'pegida_demo_11052015_056.jpg' gefunden.\n",
      "27 Teilnehmer auf 'pegida_demo_11052015_057.jpg' gefunden.\n",
      "35 Teilnehmer auf 'pegida_demo_11052015_058.jpg' gefunden.\n",
      "33 Teilnehmer auf 'pegida_demo_11052015_059.jpg' gefunden.\n",
      "14 Teilnehmer auf 'pegida_demo_11052015_060.jpg' gefunden.\n",
      "22 Teilnehmer auf 'pegida_demo_11052015_061.jpg' gefunden.\n",
      "31 Teilnehmer auf 'pegida_demo_11052015_062.jpg' gefunden.\n",
      "31 Teilnehmer auf 'pegida_demo_11052015_063.jpg' gefunden.\n",
      "24 Teilnehmer auf 'pegida_demo_11052015_064.jpg' gefunden.\n",
      "37 Teilnehmer auf 'pegida_demo_11052015_065.jpg' gefunden.\n",
      "54 Teilnehmer auf 'pegida_demo_11052015_066.jpg' gefunden.\n",
      "35 Teilnehmer auf 'pegida_demo_11052015_067.jpg' gefunden.\n",
      "20 Teilnehmer auf 'pegida_demo_11052015_068.jpg' gefunden.\n",
      "29 Teilnehmer auf 'pegida_demo_11052015_069.jpg' gefunden.\n",
      "31 Teilnehmer auf 'pegida_demo_11052015_070.jpg' gefunden.\n",
      "41 Teilnehmer auf 'pegida_demo_11052015_071.jpg' gefunden.\n",
      "29 Teilnehmer auf 'pegida_demo_11052015_072.jpg' gefunden.\n",
      "35 Teilnehmer auf 'pegida_demo_11052015_073.jpg' gefunden.\n",
      "29 Teilnehmer auf 'pegida_demo_11052015_074.jpg' gefunden.\n",
      "12 Teilnehmer auf 'pegida_demo_11052015_075.jpg' gefunden.\n",
      "8 Teilnehmer auf 'pegida_demo_11052015_076.jpg' gefunden.\n"
     ]
    }
   ],
   "source": [
    "demonstrationszug = []\n",
    "for jpg in screenshots:\n",
    "    capture = cv2.cv.CaptureFromFile('./screenshots/' + jpg)\n",
    "    if not capture:\n",
    "        print \"Error loading video file\"\n",
    "        # Should exit the application\n",
    "\n",
    "    img = cv2.cv.QueryFrame(capture)\n",
    "    img = np.array(img[:])\n",
    "\n",
    "    people = detectpeople(img)\n",
    "    \n",
    "    print('%i Teilnehmer auf \\'%s\\' gefunden.' % (people, jpg))\n",
    "    \n",
    "    demonstrationszug.append(people)"
   ]
  },
  {
   "cell_type": "code",
   "execution_count": 49,
   "metadata": {
    "collapsed": false
   },
   "outputs": [
    {
     "data": {
      "text/plain": [
       "<matplotlib.text.Text at 0x10bd773d0>"
      ]
     },
     "execution_count": 49,
     "metadata": {},
     "output_type": "execute_result"
    },
    {
     "data": {
      "image/png": "[encoded data removed]",
      "text/plain": [
       "<matplotlib.figure.Figure at 0x10b21d9d0>"
      ]
     },
     "metadata": {},
     "output_type": "display_data"
    }
   ],
   "source": [
    "plt.plot(demonstrationszug)\n",
    "plt.xlabel('Bild #')\n",
    "plt.ylabel('Anzahl Personen im Bild')"
   ]
  },
  {
   "cell_type": "code",
   "execution_count": 50,
   "metadata": {
    "collapsed": false
   },
   "outputs": [
    {
     "name": "stdout",
     "output_type": "stream",
     "text": [
      "Insgesamt 2600 Teilnehmer.\n"
     ]
    }
   ],
   "source": [
    "print('Insgesamt %i Teilnehmer.' % np.sum(demonstrationszug))"
   ]
  },
  {
   "cell_type": "markdown",
   "metadata": {},
   "source": [
    "manuell wurden durch [STUDENTENGRUPPE \"DURCHGEZAEHLT\"](https://durchgezaehlt.wordpress.com) 2.597 Personen im Demonstrationszug gezählt"
   ]
  },
  {
   "cell_type": "markdown",
   "metadata": {
    "collapsed": true
   },
   "source": [
    "## Fehlerquellen\n",
    "\n",
    "* doppelt gezähle Personen (auf 2 Fotos abgebildet)\n",
    "* nicht gezählte Personen (Verdeckte)\n",
    "* falscher `crowd_factor` (dieser stimmt mit Sicherheit nur für dieses Beispiel)\n",
    "\n",
    "Fragen? [@Balzer82](https://twitter.com/balzer82)"
   ]
  },
  {
   "cell_type": "markdown",
   "metadata": {},
   "source": [
    "`CC-BY-SA 2.0 Lizenz`"
   ]
  }
 ],
 "metadata": {
  "kernelspec": {
   "display_name": "Python 2",
   "language": "python",
   "name": "python2"
  },
  "language_info": {
   "codemirror_mode": {
    "name": "ipython",
    "version": 2
   },
   "file_extension": ".py",
   "mimetype": "text/x-python",
   "name": "python",
   "nbconvert_exporter": "python",
   "pygments_lexer": "ipython2",
   "version": "2.7.9"
  }
 },
 "nbformat": 4,
 "nbformat_minor": 0
}
