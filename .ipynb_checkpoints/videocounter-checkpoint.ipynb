{
 "cells": [
  {
   "cell_type": "markdown",
   "metadata": {},
   "source": [
    "# `Automatisierte` SCHÄTZUNG TEILNEHMERZAHL PEGIDA 11.05.2015\n",
    "\n",
    "Inspiriert durch https://durchgezaehlt.wordpress.com/2015/05/12/schatzung-teilnehmerzahl-pegida-11-05-2015/\n",
    "\n",
    "Hier die automatische Variante. :)"
   ]
  },
  {
   "cell_type": "markdown",
   "metadata": {},
   "source": [
    "### 1. Download Video from YouTube"
   ]
  },
  {
   "cell_type": "code",
   "execution_count": 1,
   "metadata": {
    "collapsed": false
   },
   "outputs": [
    {
     "name": "stdout",
     "output_type": "stream",
     "text": [
      "[youtube] Setting language\n",
      "[youtube] Confirming age\n",
      "[youtube] 5K8bZHfjWcg: Downloading webpage\n",
      "[youtube] 5K8bZHfjWcg: Downloading video info webpage\n",
      "[youtube] 5K8bZHfjWcg: Extracting video information\n",
      "[youtube] 5K8bZHfjWcg: Downloading DASH manifest\n",
      "[download] Pegida am 11.05.2015 in Dresden-5K8bZHfjWcg.mp4 has already been downloaded\n"
     ]
    }
   ],
   "source": [
    "!youtube-dl http://youtu.be/5K8bZHfjWcg"
   ]
  },
  {
   "cell_type": "markdown",
   "metadata": {},
   "source": [
    "### 2. Extract 1 image every 10 seconds\n",
    "\n",
    "this depends, for sure, on the original fps of the video and the walking speed of the people\n",
    "\n",
    "see http://www.linuxers.org/tutorial/how-extract-images-video-using-ffmpeg"
   ]
  },
  {
   "cell_type": "code",
   "execution_count": 2,
   "metadata": {
    "collapsed": false
   },
   "outputs": [
    {
     "name": "stdout",
     "output_type": "stream",
     "text": [
      "ffmpeg version 2.4.3 Copyright (c) 2000-2014 the FFmpeg developers\n",
      "  built on Nov  6 2014 13:37:15 with Apple LLVM version 6.0 (clang-600.0.54) (based on LLVM 3.5svn)\n",
      "  configuration: --prefix=/opt/local --enable-swscale --enable-avfilter --enable-avresample --enable-libmp3lame --enable-libvorbis --enable-libopus --enable-libtheora --enable-libschroedinger --enable-libopenjpeg --enable-libmodplug --enable-libvpx --enable-libspeex --enable-libass --enable-libbluray --enable-lzma --enable-gnutls --enable-fontconfig --enable-libfreetype --enable-libfribidi --disable-indev=jack --disable-outdev=xv --mandir=/opt/local/share/man --enable-shared --enable-pthreads --cc=/usr/bin/clang --enable-vda --arch=x86_64 --enable-yasm --enable-gpl --enable-postproc --enable-libx264 --enable-libxvid\n",
      "  libavutil      54.  7.100 / 54.  7.100\n",
      "  libavcodec     56.  1.100 / 56.  1.100\n",
      "  libavformat    56.  4.101 / 56.  4.101\n",
      "  libavdevice    56.  0.100 / 56.  0.100\n",
      "  libavfilter     5.  1.100 /  5.  1.100\n",
      "  libavresample   2.  1.  0 /  2.  1.  0\n",
      "  libswscale      3.  0.100 /  3.  0.100\n",
      "  libswresample   1.  1.100 /  1.  1.100\n",
      "  libpostproc    53.  0.100 / 53.  0.100\n",
      "Input #0, mov,mp4,m4a,3gp,3g2,mj2, from 'Pegida am 11.05.2015 in Dresden-5K8bZHfjWcg.mp4':\n",
      "  Metadata:\n",
      "    major_brand     : mp42\n",
      "    minor_version   : 0\n",
      "    compatible_brands: isommp42\n",
      "    creation_time   : 2015-05-12 07:56:09\n",
      "  Duration: 00:12:14.66, start: 0.000000, bitrate: 2958 kb/s\n",
      "    Stream #0:0(und): Video: h264 (High) (avc1 / 0x31637661), yuv420p, 1280x720 [SAR 1:1 DAR 16:9], 2764 kb/s, 25 fps, 25 tbr, 25 tbn, 50 tbc (default)\n",
      "    Metadata:\n",
      "      handler_name    : VideoHandler\n",
      "    Stream #0:1(und): Audio: aac (mp4a / 0x6134706D), 44100 Hz, stereo, fltp, 191 kb/s (default)\n",
      "    Metadata:\n",
      "      creation_time   : 2015-05-12 07:56:17\n",
      "      handler_name    : IsoMedia File Produced by Google, 5-11-2011\n",
      "\u001b[1;34m[swscaler @ 0x7fac0c000000] \u001b[0m\u001b[0;33mdeprecated pixel format used, make sure you did set range correctly\n",
      "\u001b[0mOutput #0, image2, to 'screenshots/pegida_demo_11052015_%3d.jpg':\n",
      "  Metadata:\n",
      "    major_brand     : mp42\n",
      "    minor_version   : 0\n",
      "    compatible_brands: isommp42\n",
      "    encoder         : Lavf56.4.101\n",
      "    Stream #0:0(und): Video: mjpeg, yuvj420p, 1280x720 [SAR 1:1 DAR 16:9], q=2-31, 200 kb/s, 0.10 fps, 0.10 tbn, 0.10 tbc (default)\n",
      "    Metadata:\n",
      "      handler_name    : VideoHandler\n",
      "      encoder         : Lavc56.1.100 mjpeg\n",
      "Stream mapping:\n",
      "  Stream #0:0 -> #0:0 (h264 (native) -> mjpeg (native))\n",
      "Press [q] to stop, [?] for help\n",
      "frame=   76 fps=1.0 q=0.0 Lsize=N/A time=00:12:40.00 bitrate=N/A dup=0 drop=18290    \n",
      "video:12674kB audio:0kB subtitle:0kB other streams:0kB global headers:0kB muxing overhead: unknown\n"
     ]
    }
   ],
   "source": [
    "!ffmpeg -i Pegida\\ am\\ 11.05.2015\\ in\\ Dresden-5K8bZHfjWcg.mp4 -qscale:v 2 -r 1/10 -s hd720 screenshots/pegida_demo_11052015_%3d.jpg"
   ]
  },
  {
   "cell_type": "markdown",
   "metadata": {},
   "source": [
    "### 3. Code some Stuff"
   ]
  },
  {
   "cell_type": "code",
   "execution_count": 3,
   "metadata": {
    "collapsed": false
   },
   "outputs": [
    {
     "name": "stdout",
     "output_type": "stream",
     "text": [
      "2.4.11\n"
     ]
    }
   ],
   "source": [
    "import cv2\n",
    "print cv2.__version__\n",
    "\n",
    "%matplotlib inline\n",
    "import numpy as np\n",
    "import matplotlib.pyplot as plt\n",
    "import Image\n",
    "\n",
    "import os"
   ]
  },
  {
   "cell_type": "markdown",
   "metadata": {},
   "source": [
    "this little helper code is from here, in case you want to mark people in images: http://stackoverflow.com/questions/28476343/how-to-correctly-use-peopledetect-py-in-opencv"
   ]
  },
  {
   "cell_type": "code",
   "execution_count": 4,
   "metadata": {
    "collapsed": true
   },
   "outputs": [],
   "source": [
    "def inside(r, q):\n",
    "    rx, ry, rw, rh = r\n",
    "    qx, qy, qw, qh = q\n",
    "    return rx > qx and ry > qy and rx + rw < qx + qw and ry + rh < qy + qh"
   ]
  },
  {
   "cell_type": "code",
   "execution_count": 5,
   "metadata": {
    "collapsed": true
   },
   "outputs": [],
   "source": [
    "def draw_detections(img, rects, thickness = 1):\n",
    "    for x, y, w, h in rects:\n",
    "        # the HOG detector returns slightly larger rectangles than the real objects.\n",
    "        # so we slightly shrink the rectangles to get a nicer output.\n",
    "        pad_w, pad_h = int(0.15*w), int(0.05*h)\n",
    "        cv2.rectangle(img, (x+pad_w, y+pad_h), (x+w-pad_w, y+h-pad_h), (0, 255, 0), thickness)"
   ]
  },
  {
   "cell_type": "markdown",
   "metadata": {},
   "source": [
    "### Histogram of oriented gradients (HOG) Descriptor for People Detection\n",
    "\n",
    "see undocumented OpenCV: https://github.com/Itseez/opencv/blob/master/samples/python2/peopledetect.py"
   ]
  },
  {
   "cell_type": "code",
   "execution_count": 6,
   "metadata": {
    "collapsed": false
   },
   "outputs": [],
   "source": [
    "def detectpeople(img, hitThreshold=-0.3, winStride=(6,6), padding=(32,32), scale=1.05, crowd_factor=1.8, save_result_as='None'):\n",
    "    hog = cv2.HOGDescriptor()\n",
    "    hog.setSVMDetector( cv2.HOGDescriptor_getDefaultPeopleDetector() )\n",
    "\n",
    "    found, w = hog.detectMultiScale(img, hitThreshold=hitThreshold, winStride=winStride, padding=padding, scale=scale)\n",
    "    \n",
    "    found_filtered = []\n",
    "    for ri, r in enumerate(found):\n",
    "        for qi, q in enumerate(found):\n",
    "            if ri != qi and inside(r, q):\n",
    "                break\n",
    "        else:\n",
    "            found_filtered.append(r)\n",
    "\n",
    "    #print '%d (%d) found' % (len(found_filtered), len(found))\n",
    "    \n",
    "    # because of hidden people behind others,\n",
    "    # we multiply with empirically choosen crowd factor \n",
    "    people = int(len(found_filtered)*crowd_factor)\n",
    "\n",
    "    \n",
    "    if save_result_as!='None':\n",
    "        #draw_detections(img, found)\n",
    "        draw_detections(img, found_filtered, 3)\n",
    "\n",
    "        plt.title(u\"%i Personen in Bild #%s geschätzt\" % (people, save_result_as[-14:-11]))\n",
    "        plt.imshow(img, cmap='gray')\n",
    "        plt.axis('off')\n",
    "        plt.tight_layout()\n",
    "        plt.savefig(save_result_as, dpi=150)\n",
    "        plt.close()\n",
    "\n",
    "    return people"
   ]
  },
  {
   "cell_type": "markdown",
   "metadata": {},
   "source": [
    "# Look at all the Pegidas!\n",
    "\n",
    "![](http://i.imgur.com/aW8KocQ.jpg)"
   ]
  },
  {
   "cell_type": "code",
   "execution_count": 7,
   "metadata": {
    "collapsed": false
   },
   "outputs": [],
   "source": [
    "screenshots = [f for f in os.listdir('./screenshots') if f.endswith('.jpg') and not f.endswith('marked.jpg')]"
   ]
  },
  {
   "cell_type": "code",
   "execution_count": 8,
   "metadata": {
    "collapsed": false
   },
   "outputs": [],
   "source": [
    "#screenshots = ['pegida_demo_11052015_022.jpg']"
   ]
  },
  {
   "cell_type": "code",
   "execution_count": 9,
   "metadata": {
    "collapsed": false
   },
   "outputs": [
    {
     "name": "stdout",
     "output_type": "stream",
     "text": [
      "32 Teilnehmer auf 'pegida_demo_11052015_005.jpg' geschätzt.\n",
      "75 Teilnehmer auf 'pegida_demo_11052015_006.jpg' geschätzt.\n",
      "63 Teilnehmer auf 'pegida_demo_11052015_007.jpg' geschätzt.\n",
      "72 Teilnehmer auf 'pegida_demo_11052015_008.jpg' geschätzt.\n",
      "50 Teilnehmer auf 'pegida_demo_11052015_009.jpg' geschätzt.\n",
      "43 Teilnehmer auf 'pegida_demo_11052015_010.jpg' geschätzt.\n",
      "36 Teilnehmer auf 'pegida_demo_11052015_011.jpg' geschätzt.\n",
      "34 Teilnehmer auf 'pegida_demo_11052015_012.jpg' geschätzt.\n",
      "34 Teilnehmer auf 'pegida_demo_11052015_013.jpg' geschätzt.\n",
      "27 Teilnehmer auf 'pegida_demo_11052015_014.jpg' geschätzt.\n",
      "34 Teilnehmer auf 'pegida_demo_11052015_015.jpg' geschätzt.\n",
      "32 Teilnehmer auf 'pegida_demo_11052015_016.jpg' geschätzt.\n",
      "46 Teilnehmer auf 'pegida_demo_11052015_017.jpg' geschätzt.\n",
      "14 Teilnehmer auf 'pegida_demo_11052015_018.jpg' geschätzt.\n",
      "10 Teilnehmer auf 'pegida_demo_11052015_019.jpg' geschätzt.\n",
      "28 Teilnehmer auf 'pegida_demo_11052015_020.jpg' geschätzt.\n",
      "48 Teilnehmer auf 'pegida_demo_11052015_021.jpg' geschätzt.\n",
      "48 Teilnehmer auf 'pegida_demo_11052015_022.jpg' geschätzt.\n",
      "55 Teilnehmer auf 'pegida_demo_11052015_023.jpg' geschätzt.\n",
      "52 Teilnehmer auf 'pegida_demo_11052015_024.jpg' geschätzt.\n",
      "27 Teilnehmer auf 'pegida_demo_11052015_025.jpg' geschätzt.\n",
      "21 Teilnehmer auf 'pegida_demo_11052015_026.jpg' geschätzt.\n",
      "30 Teilnehmer auf 'pegida_demo_11052015_027.jpg' geschätzt.\n",
      "43 Teilnehmer auf 'pegida_demo_11052015_028.jpg' geschätzt.\n",
      "39 Teilnehmer auf 'pegida_demo_11052015_029.jpg' geschätzt.\n",
      "30 Teilnehmer auf 'pegida_demo_11052015_030.jpg' geschätzt.\n",
      "18 Teilnehmer auf 'pegida_demo_11052015_031.jpg' geschätzt.\n",
      "23 Teilnehmer auf 'pegida_demo_11052015_032.jpg' geschätzt.\n",
      "30 Teilnehmer auf 'pegida_demo_11052015_033.jpg' geschätzt.\n",
      "43 Teilnehmer auf 'pegida_demo_11052015_034.jpg' geschätzt.\n",
      "37 Teilnehmer auf 'pegida_demo_11052015_035.jpg' geschätzt.\n",
      "43 Teilnehmer auf 'pegida_demo_11052015_036.jpg' geschätzt.\n",
      "36 Teilnehmer auf 'pegida_demo_11052015_037.jpg' geschätzt.\n",
      "43 Teilnehmer auf 'pegida_demo_11052015_038.jpg' geschätzt.\n",
      "32 Teilnehmer auf 'pegida_demo_11052015_039.jpg' geschätzt.\n",
      "27 Teilnehmer auf 'pegida_demo_11052015_040.jpg' geschätzt.\n",
      "23 Teilnehmer auf 'pegida_demo_11052015_041.jpg' geschätzt.\n",
      "19 Teilnehmer auf 'pegida_demo_11052015_042.jpg' geschätzt.\n",
      "41 Teilnehmer auf 'pegida_demo_11052015_043.jpg' geschätzt.\n",
      "27 Teilnehmer auf 'pegida_demo_11052015_044.jpg' geschätzt.\n",
      "28 Teilnehmer auf 'pegida_demo_11052015_045.jpg' geschätzt.\n",
      "16 Teilnehmer auf 'pegida_demo_11052015_046.jpg' geschätzt.\n",
      "16 Teilnehmer auf 'pegida_demo_11052015_047.jpg' geschätzt.\n",
      "16 Teilnehmer auf 'pegida_demo_11052015_048.jpg' geschätzt.\n",
      "23 Teilnehmer auf 'pegida_demo_11052015_049.jpg' geschätzt.\n",
      "28 Teilnehmer auf 'pegida_demo_11052015_050.jpg' geschätzt.\n",
      "27 Teilnehmer auf 'pegida_demo_11052015_051.jpg' geschätzt.\n",
      "21 Teilnehmer auf 'pegida_demo_11052015_052.jpg' geschätzt.\n",
      "23 Teilnehmer auf 'pegida_demo_11052015_053.jpg' geschätzt.\n",
      "21 Teilnehmer auf 'pegida_demo_11052015_054.jpg' geschätzt.\n",
      "36 Teilnehmer auf 'pegida_demo_11052015_055.jpg' geschätzt.\n",
      "34 Teilnehmer auf 'pegida_demo_11052015_056.jpg' geschätzt.\n",
      "23 Teilnehmer auf 'pegida_demo_11052015_057.jpg' geschätzt.\n",
      "30 Teilnehmer auf 'pegida_demo_11052015_058.jpg' geschätzt.\n",
      "28 Teilnehmer auf 'pegida_demo_11052015_059.jpg' geschätzt.\n",
      "12 Teilnehmer auf 'pegida_demo_11052015_060.jpg' geschätzt.\n",
      "19 Teilnehmer auf 'pegida_demo_11052015_061.jpg' geschätzt.\n",
      "27 Teilnehmer auf 'pegida_demo_11052015_062.jpg' geschätzt.\n",
      "27 Teilnehmer auf 'pegida_demo_11052015_063.jpg' geschätzt.\n",
      "21 Teilnehmer auf 'pegida_demo_11052015_064.jpg' geschätzt.\n",
      "32 Teilnehmer auf 'pegida_demo_11052015_065.jpg' geschätzt.\n",
      "46 Teilnehmer auf 'pegida_demo_11052015_066.jpg' geschätzt.\n",
      "30 Teilnehmer auf 'pegida_demo_11052015_067.jpg' geschätzt.\n",
      "18 Teilnehmer auf 'pegida_demo_11052015_068.jpg' geschätzt.\n",
      "25 Teilnehmer auf 'pegida_demo_11052015_069.jpg' geschätzt.\n",
      "27 Teilnehmer auf 'pegida_demo_11052015_070.jpg' geschätzt.\n",
      "36 Teilnehmer auf 'pegida_demo_11052015_071.jpg' geschätzt.\n",
      "25 Teilnehmer auf 'pegida_demo_11052015_072.jpg' geschätzt.\n",
      "30 Teilnehmer auf 'pegida_demo_11052015_073.jpg' geschätzt.\n",
      "25 Teilnehmer auf 'pegida_demo_11052015_074.jpg' geschätzt.\n",
      "10 Teilnehmer auf 'pegida_demo_11052015_075.jpg' geschätzt.\n",
      "7 Teilnehmer auf 'pegida_demo_11052015_076.jpg' geschätzt.\n"
     ]
    }
   ],
   "source": [
    "demonstrationszug = []\n",
    "for jpg in screenshots:\n",
    "    \n",
    "    jpgname = './screenshots/' + jpg\n",
    "    \n",
    "    capture = cv2.cv.CaptureFromFile(jpgname)\n",
    "    if not capture:\n",
    "        print \"Error loading video file\"\n",
    "        break\n",
    "\n",
    "    img = cv2.cv.QueryFrame(capture)\n",
    "    img = np.array(img[:])\n",
    "\n",
    "    people = detectpeople(img, save_result_as=jpgname[:-4]+'_marked.jpg')\n",
    "    \n",
    "    print(u'%i Teilnehmer auf \\'%s\\' geschätzt.' % (people, jpg))\n",
    "    \n",
    "    demonstrationszug.append(people)"
   ]
  },
  {
   "cell_type": "code",
   "execution_count": 10,
   "metadata": {
    "collapsed": false
   },
   "outputs": [
    {
     "data": {
      "text/plain": [
       "<matplotlib.text.Text at 0x121ac88d0>"
      ]
     },
     "execution_count": 10,
     "metadata": {},
     "output_type": "execute_result"
    },
    {
     "data": {
      "image/png": "[encoded data removed]",
      "text/plain": [
       "<matplotlib.figure.Figure at 0x104035550>"
      ]
     },
     "metadata": {},
     "output_type": "display_data"
    }
   ],
   "source": [
    "plt.bar([b+5 for b in range(len(demonstrationszug))], demonstrationszug)\n",
    "plt.xlabel('Bild #')\n",
    "plt.ylabel('Anzahl Personen im Bild')"
   ]
  },
  {
   "cell_type": "code",
   "execution_count": 11,
   "metadata": {
    "collapsed": false
   },
   "outputs": [
    {
     "name": "stdout",
     "output_type": "stream",
     "text": [
      "Insgesamt 2252 Teilnehmer.\n"
     ]
    }
   ],
   "source": [
    "print('Insgesamt %i Teilnehmer.' % np.sum(demonstrationszug))"
   ]
  },
  {
   "cell_type": "markdown",
   "metadata": {},
   "source": [
    "manuell wurden durch [STUDENTENGRUPPE \"DURCHGEZAEHLT\"](https://durchgezaehlt.wordpress.com) 2.597 Personen im Demonstrationszug gezählt"
   ]
  },
  {
   "cell_type": "markdown",
   "metadata": {
    "collapsed": true
   },
   "source": [
    "## Fehlerquellen\n",
    "\n",
    "* doppelt gezähle Personen (auf 2 Fotos abgebildet)\n",
    "* nicht gezählte Personen (Verdeckte)\n",
    "* falscher `crowd_factor` (dieser stimmt mit Sicherheit nur für dieses Beispiel)\n",
    "\n",
    "Fragen? [@Balzer82](https://twitter.com/balzer82)"
   ]
  },
  {
   "cell_type": "markdown",
   "metadata": {},
   "source": [
    "`CC-BY-SA 2.0 Lizenz`"
   ]
  }
 ],
 "metadata": {
  "kernelspec": {
   "display_name": "Python 2",
   "language": "python",
   "name": "python2"
  },
  "language_info": {
   "codemirror_mode": {
    "name": "ipython",
    "version": 2
   },
   "file_extension": ".py",
   "mimetype": "text/x-python",
   "name": "python",
   "nbconvert_exporter": "python",
   "pygments_lexer": "ipython2",
   "version": "2.7.9"
  }
 },
 "nbformat": 4,
 "nbformat_minor": 0
}
