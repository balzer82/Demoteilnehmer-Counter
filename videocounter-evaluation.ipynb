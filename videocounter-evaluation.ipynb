{
 "cells": [
  {
   "cell_type": "markdown",
   "metadata": {},
   "source": [
    "# `Automatisierte` SCHÄTZUNG TEILNEHMERZAHL PEGIDA 18.05.2015\n",
    "\n",
    "Evaluation des Algorithmus für neues Video"
   ]
  },
  {
   "cell_type": "markdown",
   "metadata": {},
   "source": [
    "### 1. Download Video from YouTube"
   ]
  },
  {
   "cell_type": "code",
   "execution_count": 16,
   "metadata": {
    "collapsed": false
   },
   "outputs": [],
   "source": [
    "#!youtube-dl https://www.youtube.com/watch?v=TMBY1Sb712k"
   ]
  },
  {
   "cell_type": "markdown",
   "metadata": {},
   "source": [
    "### 2. Extract 1 image every 10 seconds\n",
    "\n",
    "this depends, for sure, on the original fps of the video and the walking speed of the people\n",
    "\n",
    "see http://www.linuxers.org/tutorial/how-extract-images-video-using-ffmpeg"
   ]
  },
  {
   "cell_type": "code",
   "execution_count": 17,
   "metadata": {
    "collapsed": false
   },
   "outputs": [],
   "source": [
    "#!ffmpeg -i Pegida\\ Demonstration\\ 18.05.2015\\ in\\ Dresden-TMBY1Sb712k.mp4 -qscale:v 2 -r 1/10 -s hd720 screenshots/pegida_demo_18052015_%3d.jpg"
   ]
  },
  {
   "cell_type": "markdown",
   "metadata": {},
   "source": [
    "### 3. Code some Stuff"
   ]
  },
  {
   "cell_type": "code",
   "execution_count": 18,
   "metadata": {
    "collapsed": false
   },
   "outputs": [
    {
     "name": "stdout",
     "output_type": "stream",
     "text": [
      "2.4.11\n"
     ]
    }
   ],
   "source": [
    "import cv2\n",
    "print cv2.__version__\n",
    "\n",
    "%matplotlib inline\n",
    "import numpy as np\n",
    "import matplotlib.pyplot as plt\n",
    "import Image\n",
    "\n",
    "import os"
   ]
  },
  {
   "cell_type": "markdown",
   "metadata": {},
   "source": [
    "this little helper code is from here, in case you want to mark people in images: http://stackoverflow.com/questions/28476343/how-to-correctly-use-peopledetect-py-in-opencv"
   ]
  },
  {
   "cell_type": "code",
   "execution_count": 19,
   "metadata": {
    "collapsed": true
   },
   "outputs": [],
   "source": [
    "def inside(r, q):\n",
    "    rx, ry, rw, rh = r\n",
    "    qx, qy, qw, qh = q\n",
    "    return rx > qx and ry > qy and rx + rw < qx + qw and ry + rh < qy + qh"
   ]
  },
  {
   "cell_type": "code",
   "execution_count": 20,
   "metadata": {
    "collapsed": true
   },
   "outputs": [],
   "source": [
    "def draw_detections(img, rects, thickness = 1):\n",
    "    for x, y, w, h in rects:\n",
    "        # the HOG detector returns slightly larger rectangles than the real objects.\n",
    "        # so we slightly shrink the rectangles to get a nicer output.\n",
    "        pad_w, pad_h = int(0.15*w), int(0.05*h)\n",
    "        cv2.rectangle(img, (x+pad_w, y+pad_h), (x+w-pad_w, y+h-pad_h), (0, 255, 0), thickness)"
   ]
  },
  {
   "cell_type": "markdown",
   "metadata": {},
   "source": [
    "### Histogram of oriented gradients (HOG) Descriptor for People Detection\n",
    "\n",
    "see undocumented OpenCV: https://github.com/Itseez/opencv/blob/master/samples/python2/peopledetect.py"
   ]
  },
  {
   "cell_type": "code",
   "execution_count": 21,
   "metadata": {
    "collapsed": false
   },
   "outputs": [],
   "source": [
    "def detectpeople(img, hitThreshold=-0.3, winStride=(6,6), padding=(32,32), scale=1.05, crowd_factor=1.8, save_result_as='None'):\n",
    "    hog = cv2.HOGDescriptor()\n",
    "    hog.setSVMDetector( cv2.HOGDescriptor_getDefaultPeopleDetector() )\n",
    "\n",
    "    found, w = hog.detectMultiScale(img, hitThreshold=hitThreshold, winStride=winStride, padding=padding, scale=scale)\n",
    "    \n",
    "    found_filtered = []\n",
    "    for ri, r in enumerate(found):\n",
    "        for qi, q in enumerate(found):\n",
    "            if ri != qi and inside(r, q):\n",
    "                break\n",
    "        else:\n",
    "            found_filtered.append(r)\n",
    "\n",
    "    #print '%d (%d) found' % (len(found_filtered), len(found))\n",
    "    \n",
    "    # because of hidden people behind others,\n",
    "    # we multiply with empirically choosen crowd factor \n",
    "    people = int(len(found_filtered)*crowd_factor)\n",
    "\n",
    "    \n",
    "    if save_result_as!='None':\n",
    "        #draw_detections(img, found)\n",
    "        draw_detections(img, found_filtered, 3)\n",
    "\n",
    "        plt.title(u\"%i Personen in Bild #%s geschätzt\" % (people, save_result_as[-14:-11]))\n",
    "        plt.imshow(img, cmap='gray')\n",
    "        plt.axis('off')\n",
    "        plt.tight_layout()\n",
    "        plt.savefig(save_result_as, dpi=150)\n",
    "        plt.close()\n",
    "\n",
    "    return people"
   ]
  },
  {
   "cell_type": "markdown",
   "metadata": {},
   "source": [
    "# Look at all the Pegidas!\n",
    "\n",
    "![](http://i.imgur.com/aW8KocQ.jpg)"
   ]
  },
  {
   "cell_type": "code",
   "execution_count": 22,
   "metadata": {
    "collapsed": false
   },
   "outputs": [],
   "source": [
    "screenshots = [f for f in os.listdir('./screenshots') if f.endswith('.jpg') and not f.endswith('marked.jpg')]"
   ]
  },
  {
   "cell_type": "code",
   "execution_count": 23,
   "metadata": {
    "collapsed": false
   },
   "outputs": [],
   "source": [
    "#screenshots = ['pegida_demo_11052015_022.jpg']"
   ]
  },
  {
   "cell_type": "code",
   "execution_count": 24,
   "metadata": {
    "collapsed": false
   },
   "outputs": [
    {
     "name": "stdout",
     "output_type": "stream",
     "text": [
      "9 Teilnehmer auf 'pegida_demo_18052015_005.jpg' geschätzt.\n",
      "16 Teilnehmer auf 'pegida_demo_18052015_006.jpg' geschätzt.\n",
      "36 Teilnehmer auf 'pegida_demo_18052015_007.jpg' geschätzt.\n",
      "45 Teilnehmer auf 'pegida_demo_18052015_008.jpg' geschätzt.\n",
      "46 Teilnehmer auf 'pegida_demo_18052015_009.jpg' geschätzt.\n",
      "37 Teilnehmer auf 'pegida_demo_18052015_010.jpg' geschätzt.\n",
      "57 Teilnehmer auf 'pegida_demo_18052015_011.jpg' geschätzt.\n",
      "48 Teilnehmer auf 'pegida_demo_18052015_012.jpg' geschätzt.\n",
      "52 Teilnehmer auf 'pegida_demo_18052015_013.jpg' geschätzt.\n",
      "48 Teilnehmer auf 'pegida_demo_18052015_014.jpg' geschätzt.\n",
      "61 Teilnehmer auf 'pegida_demo_18052015_015.jpg' geschätzt.\n",
      "50 Teilnehmer auf 'pegida_demo_18052015_016.jpg' geschätzt.\n",
      "63 Teilnehmer auf 'pegida_demo_18052015_017.jpg' geschätzt.\n",
      "50 Teilnehmer auf 'pegida_demo_18052015_018.jpg' geschätzt.\n",
      "34 Teilnehmer auf 'pegida_demo_18052015_019.jpg' geschätzt.\n",
      "50 Teilnehmer auf 'pegida_demo_18052015_020.jpg' geschätzt.\n",
      "50 Teilnehmer auf 'pegida_demo_18052015_021.jpg' geschätzt.\n",
      "39 Teilnehmer auf 'pegida_demo_18052015_022.jpg' geschätzt.\n",
      "48 Teilnehmer auf 'pegida_demo_18052015_023.jpg' geschätzt.\n",
      "41 Teilnehmer auf 'pegida_demo_18052015_024.jpg' geschätzt.\n",
      "57 Teilnehmer auf 'pegida_demo_18052015_025.jpg' geschätzt.\n",
      "46 Teilnehmer auf 'pegida_demo_18052015_026.jpg' geschätzt.\n",
      "48 Teilnehmer auf 'pegida_demo_18052015_027.jpg' geschätzt.\n",
      "32 Teilnehmer auf 'pegida_demo_18052015_028.jpg' geschätzt.\n",
      "32 Teilnehmer auf 'pegida_demo_18052015_029.jpg' geschätzt.\n",
      "39 Teilnehmer auf 'pegida_demo_18052015_030.jpg' geschätzt.\n",
      "30 Teilnehmer auf 'pegida_demo_18052015_031.jpg' geschätzt.\n",
      "30 Teilnehmer auf 'pegida_demo_18052015_032.jpg' geschätzt.\n",
      "30 Teilnehmer auf 'pegida_demo_18052015_033.jpg' geschätzt.\n",
      "23 Teilnehmer auf 'pegida_demo_18052015_034.jpg' geschätzt.\n",
      "28 Teilnehmer auf 'pegida_demo_18052015_035.jpg' geschätzt.\n",
      "34 Teilnehmer auf 'pegida_demo_18052015_036.jpg' geschätzt.\n",
      "41 Teilnehmer auf 'pegida_demo_18052015_037.jpg' geschätzt.\n",
      "39 Teilnehmer auf 'pegida_demo_18052015_038.jpg' geschätzt.\n",
      "43 Teilnehmer auf 'pegida_demo_18052015_039.jpg' geschätzt.\n",
      "68 Teilnehmer auf 'pegida_demo_18052015_040.jpg' geschätzt.\n",
      "48 Teilnehmer auf 'pegida_demo_18052015_041.jpg' geschätzt.\n",
      "46 Teilnehmer auf 'pegida_demo_18052015_042.jpg' geschätzt.\n",
      "36 Teilnehmer auf 'pegida_demo_18052015_043.jpg' geschätzt.\n",
      "37 Teilnehmer auf 'pegida_demo_18052015_044.jpg' geschätzt.\n",
      "32 Teilnehmer auf 'pegida_demo_18052015_045.jpg' geschätzt.\n",
      "39 Teilnehmer auf 'pegida_demo_18052015_046.jpg' geschätzt.\n",
      "36 Teilnehmer auf 'pegida_demo_18052015_047.jpg' geschätzt.\n",
      "37 Teilnehmer auf 'pegida_demo_18052015_048.jpg' geschätzt.\n",
      "45 Teilnehmer auf 'pegida_demo_18052015_049.jpg' geschätzt.\n",
      "23 Teilnehmer auf 'pegida_demo_18052015_050.jpg' geschätzt.\n",
      "32 Teilnehmer auf 'pegida_demo_18052015_051.jpg' geschätzt.\n",
      "41 Teilnehmer auf 'pegida_demo_18052015_052.jpg' geschätzt.\n",
      "39 Teilnehmer auf 'pegida_demo_18052015_053.jpg' geschätzt.\n",
      "32 Teilnehmer auf 'pegida_demo_18052015_054.jpg' geschätzt.\n",
      "39 Teilnehmer auf 'pegida_demo_18052015_055.jpg' geschätzt.\n",
      "36 Teilnehmer auf 'pegida_demo_18052015_056.jpg' geschätzt.\n",
      "28 Teilnehmer auf 'pegida_demo_18052015_057.jpg' geschätzt.\n",
      "19 Teilnehmer auf 'pegida_demo_18052015_058.jpg' geschätzt.\n",
      "37 Teilnehmer auf 'pegida_demo_18052015_059.jpg' geschätzt.\n",
      "37 Teilnehmer auf 'pegida_demo_18052015_060.jpg' geschätzt.\n",
      "48 Teilnehmer auf 'pegida_demo_18052015_061.jpg' geschätzt.\n",
      "34 Teilnehmer auf 'pegida_demo_18052015_062.jpg' geschätzt.\n",
      "28 Teilnehmer auf 'pegida_demo_18052015_063.jpg' geschätzt.\n",
      "21 Teilnehmer auf 'pegida_demo_18052015_064.jpg' geschätzt.\n",
      "27 Teilnehmer auf 'pegida_demo_18052015_065.jpg' geschätzt.\n",
      "16 Teilnehmer auf 'pegida_demo_18052015_066.jpg' geschätzt.\n",
      "21 Teilnehmer auf 'pegida_demo_18052015_067.jpg' geschätzt.\n",
      "25 Teilnehmer auf 'pegida_demo_18052015_068.jpg' geschätzt.\n",
      "25 Teilnehmer auf 'pegida_demo_18052015_069.jpg' geschätzt.\n",
      "25 Teilnehmer auf 'pegida_demo_18052015_070.jpg' geschätzt.\n",
      "19 Teilnehmer auf 'pegida_demo_18052015_071.jpg' geschätzt.\n",
      "19 Teilnehmer auf 'pegida_demo_18052015_072.jpg' geschätzt.\n",
      "28 Teilnehmer auf 'pegida_demo_18052015_073.jpg' geschätzt.\n",
      "34 Teilnehmer auf 'pegida_demo_18052015_074.jpg' geschätzt.\n",
      "18 Teilnehmer auf 'pegida_demo_18052015_075.jpg' geschätzt.\n",
      "19 Teilnehmer auf 'pegida_demo_18052015_076.jpg' geschätzt.\n",
      "14 Teilnehmer auf 'pegida_demo_18052015_077.jpg' geschätzt.\n"
     ]
    }
   ],
   "source": [
    "demonstrationszug = []\n",
    "for jpg in screenshots:\n",
    "    \n",
    "    jpgname = './screenshots/' + jpg\n",
    "    \n",
    "    capture = cv2.cv.CaptureFromFile(jpgname)\n",
    "    if not capture:\n",
    "        print \"Error loading video file\"\n",
    "        break\n",
    "\n",
    "    img = cv2.cv.QueryFrame(capture)\n",
    "    img = np.array(img[:])\n",
    "\n",
    "    people = detectpeople(img, save_result_as=jpgname[:-4]+'_marked.jpg')\n",
    "    \n",
    "    print(u'%i Teilnehmer auf \\'%s\\' geschätzt.' % (people, jpg))\n",
    "    \n",
    "    demonstrationszug.append(people)"
   ]
  },
  {
   "cell_type": "code",
   "execution_count": 25,
   "metadata": {
    "collapsed": false
   },
   "outputs": [
    {
     "data": {
      "text/plain": [
       "<matplotlib.text.Text at 0x12b05d210>"
      ]
     },
     "execution_count": 25,
     "metadata": {},
     "output_type": "execute_result"
    },
    {
     "data": {
      "image/png": "[encoded data removed]",
      "text/plain": [
       "<matplotlib.figure.Figure at 0x12a514810>"
      ]
     },
     "metadata": {},
     "output_type": "display_data"
    }
   ],
   "source": [
    "plt.bar([b+5 for b in range(len(demonstrationszug))], demonstrationszug)\n",
    "plt.xlabel('Bild #')\n",
    "plt.ylabel('Anzahl Personen im Bild')"
   ]
  },
  {
   "cell_type": "code",
   "execution_count": 26,
   "metadata": {
    "collapsed": false
   },
   "outputs": [
    {
     "name": "stdout",
     "output_type": "stream",
     "text": [
      "Insgesamt 2640 Teilnehmer.\n"
     ]
    }
   ],
   "source": [
    "print('Insgesamt %i Teilnehmer.' % np.sum(demonstrationszug))"
   ]
  },
  {
   "cell_type": "markdown",
   "metadata": {},
   "source": [
    "manuell wurden durch [STUDENTENGRUPPE \"DURCHGEZAEHLT\"](https://durchgezaehlt.wordpress.com) 2.601 Personen im Demonstrationszug gezählt"
   ]
  },
  {
   "cell_type": "markdown",
   "metadata": {
    "collapsed": true
   },
   "source": [
    "## Fehlerquellen\n",
    "\n",
    "* doppelt gezähle Personen (auf 2 Fotos abgebildet)\n",
    "* nicht gezählte Personen (Verdeckte)\n",
    "* falscher `crowd_factor` (dieser stimmt mit Sicherheit nur für dieses Beispiel)\n",
    "\n",
    "Fragen? [@Balzer82](https://twitter.com/balzer82)"
   ]
  },
  {
   "cell_type": "markdown",
   "metadata": {},
   "source": [
    "`CC-BY-SA 2.0 Lizenz`"
   ]
  }
 ],
 "metadata": {
  "kernelspec": {
   "display_name": "Python 2",
   "language": "python",
   "name": "python2"
  },
  "language_info": {
   "codemirror_mode": {
    "name": "ipython",
    "version": 2
   },
   "file_extension": ".py",
   "mimetype": "text/x-python",
   "name": "python",
   "nbconvert_exporter": "python",
   "pygments_lexer": "ipython2",
   "version": "2.7.9"
  }
 },
 "nbformat": 4,
 "nbformat_minor": 0
}
